{
 "cells": [
  {
   "cell_type": "markdown",
   "metadata": {},
   "source": [
    "### 리스트(List)\n",
    "+ 리스트 변수 생성 시 list라는 이름의 변수 생성은 금지"
   ]
  },
  {
   "cell_type": "code",
   "execution_count": 3,
   "metadata": {},
   "outputs": [],
   "source": [
    "# 빈 리스트를 생성\n",
    "\n",
    "list1 = []\n",
    "\n",
    "# 초기 값을 갖는 리스트 생성\n",
    "# 자바와 다르게 다른 자료형이 리스트의 요소로 들어올 수 있음\n",
    "list2 = [1, 1.1, 'python']"
   ]
  },
  {
   "cell_type": "code",
   "execution_count": 7,
   "metadata": {},
   "outputs": [
    {
     "name": "stdout",
     "output_type": "stream",
     "text": [
      "[1, 1.1, 'python']\n",
      "1 1.1 python \n",
      "1.1\n"
     ]
    }
   ],
   "source": [
    "# 리스트의 값 읽기\n",
    "print(list2)\n",
    "\n",
    "# 반복문을 이용하여 리스트의 모든 데이터를 출력\n",
    "\n",
    "for i in list2 :\n",
    "    print(i,end=' ')\n",
    "\n",
    "# 각각의 요소를 출력\n",
    "print()\n",
    "print(list2[1])"
   ]
  },
  {
   "cell_type": "code",
   "execution_count": 21,
   "metadata": {},
   "outputs": [
    {
     "name": "stdout",
     "output_type": "stream",
     "text": [
      "[0, 1, 2]\n",
      "[0, 1, 2, 3, 4]\n",
      "[6, 7, 8, 9, 10]\n",
      "[0, 1, 2, 3, 4, 5, 6, 7, 8, 9, 10]\n",
      "[6, 7, 8, 9, 10]\n"
     ]
    }
   ],
   "source": [
    "#슬라이싱\n",
    "list3 = [0, 1, 2, 3, 4, 5, 6, 7, 8, 9, 10]\n",
    "# [a, b]\n",
    "# a : 시작 인덱스\n",
    "# b : 마지막 인덱스전 까지\n",
    "print(list3[0:3])\n",
    "print(list3[:5])\n",
    "print(list3[6:])\n",
    "print(list3[:])\n",
    "print(list3[-5:])"
   ]
  },
  {
   "cell_type": "code",
   "execution_count": 59,
   "metadata": {},
   "outputs": [
    {
     "name": "stdout",
     "output_type": "stream",
     "text": [
      "python \n",
      "jpg jpg jpg \n",
      "2\n",
      "4\n",
      "안녕하세요 \n",
      "안녕하세요\n",
      "또 만나요 \n",
      "또 만나요\n",
      "만나서 반가웠어요 \n",
      "만나서 반가웠어요\n"
     ]
    }
   ],
   "source": [
    "# 슬라이싱의 또 다른 활용\n",
    "test_str = 'java python c++'\n",
    "print(test_str[5:12])\n",
    "\n",
    "# 퀴즈\n",
    "str_arr = [\n",
    "    '안녕하세요.jpg',\n",
    "    '또 만나요.jpg',\n",
    "    '만나서 반가웠어요.jpg'\n",
    "]\n",
    "for i in str_arr : \n",
    "   print(i[-3:], end=' ')\n",
    "print()\n",
    "\n",
    "   \n",
    "# 문자열에서 특정 문자열의 위치값 찾아내기\n",
    "str1 = 'python'\n",
    "print(str1.index('t'))\n",
    "str2 = 'java.python.c++'\n",
    "print(str2.index('.'))\n",
    "\n",
    "\n",
    "# .jpg라는 문자열 제외 출력\n",
    "# 문자열의 길이 (len(i))\n",
    "for i in str_arr :\n",
    "   print(i[:-4],end=' ')\n",
    "   print()\n",
    "   print(i[:i.index('.')])"
   ]
  },
  {
   "cell_type": "code",
   "execution_count": 66,
   "metadata": {},
   "outputs": [
    {
     "name": "stdout",
     "output_type": "stream",
     "text": [
      "[1, 2, 3]\n",
      "[1, 2, 10, 3]\n"
     ]
    }
   ],
   "source": [
    "# 리스트에 데이터 추가하기\n",
    "list4 = []\n",
    "\n",
    "# append : 리스트의 가장 마지막에 데이터 추가\n",
    "list4.append(1)\n",
    "list4.append(2)\n",
    "list4.append(3)\n",
    "print(list4)\n",
    "\n",
    "# insert(위치, 값) : 리스트에서 원하는 위치에 데이터 추가\n",
    "list4.insert(2, 10)\n",
    "print(list4)"
   ]
  },
  {
   "cell_type": "code",
   "execution_count": 71,
   "metadata": {},
   "outputs": [
    {
     "name": "stdout",
     "output_type": "stream",
     "text": [
      "[]\n"
     ]
    }
   ],
   "source": [
    "# 리스트에서 데이터 삭제하기\n",
    "# del(리스트명[인덱스])\n",
    "\n",
    "# del(list4[1])\n",
    "# print(list4)\n",
    "\n",
    "list5 = [1, 2, 3, 4, 5, 6, 7, 8, 9]\n",
    "# del(list5[:3])\n",
    "# print(list5)\n",
    "\n",
    "# 리스트명.remove(삭제할 값)\n",
    "# list5.remove(9)\n",
    "# print(list5)\n",
    "\n",
    "# 리스트의 모든 내용 지우기\n",
    "# list5.clear()\n",
    "# print(list5)\n",
    "\n",
    "# list5 = [1, 2, 3, 4, 5, 6, 7, 8, 9]\n",
    "del(list5[:])\n",
    "print(list5)\n",
    "\n",
    "# list5변수 자체가 삭제됨\n",
    "# del(list5)"
   ]
  },
  {
   "cell_type": "markdown",
   "metadata": {},
   "source": [
    "### 딕셔너리(Dictionary)"
   ]
  },
  {
   "cell_type": "code",
   "execution_count": 72,
   "metadata": {},
   "outputs": [],
   "source": [
    "# 딕셔너리 생성\n",
    "dic1 = {}\n",
    "dic2 = {'이름':'홍길동', '나이':20}"
   ]
  },
  {
   "cell_type": "code",
   "execution_count": 82,
   "metadata": {},
   "outputs": [
    {
     "name": "stdout",
     "output_type": "stream",
     "text": [
      "{'이름': '홍길동', '나이': 20}\n",
      "홍길동\n",
      "20\n",
      "key = 이름 value = 홍길동\n",
      "key = 나이 value = 20\n"
     ]
    }
   ],
   "source": [
    "# 딕셔너리 데이터 출력\n",
    "print(dic2)\n",
    "\n",
    "print(dic2['이름'])\n",
    "\n",
    "print(dic2.get('나이'))\n",
    "\n",
    "# 반복문 이용하기\n",
    "for e in dic2 : \n",
    "    print(f'key = {e} value = {dic2[e]}')"
   ]
  },
  {
   "cell_type": "code",
   "execution_count": 86,
   "metadata": {},
   "outputs": [
    {
     "name": "stdout",
     "output_type": "stream",
     "text": [
      "{'이름': '홍길동', '나이': 20}\n",
      "{'이름': '이순신', '나이': 20}\n",
      "{'나이': 20}\n"
     ]
    }
   ],
   "source": [
    "# 딕셔너리에 데이터 추가하기\n",
    "dic3 = {}\n",
    "\n",
    "# key가 이름이고 value는 '홍길동'인 데이터 추가\n",
    "dic3['이름'] = '홍길동'\n",
    "dic3['나이'] = 20\n",
    "print(dic3)\n",
    "\n",
    "# dic3 안에 키가 '이름'인 데이터의 값을 '이순신'으로 변경\n",
    "dic3['이름'] = '이순신'\n",
    "print(dic3)\n",
    "\n",
    "# 데이터 삭제하기\n",
    "# 키가 '이름'인 데이터를 삭제\n",
    "del(dic3['이름'])\n",
    "print(dic3)\n",
    "\n",
    "# 딕셔너리 안의 모든 데이터 삭제\n",
    "dic3.clear()"
   ]
  },
  {
   "cell_type": "code",
   "execution_count": 118,
   "metadata": {},
   "outputs": [
    {
     "name": "stdout",
     "output_type": "stream",
     "text": [
      "리스트 : ['1', '2', '3', '4', '5']\n"
     ]
    }
   ],
   "source": [
    "# 리스트 문제1\n",
    "# 빈 리스트를 생성하고\n",
    "# 키보드로 데이터 5개를 입력받아 입력 받은 데이터를 리스트에 추가\n",
    "# 그리고 리스트의 모든 내용 출력\n",
    "list6 = []\n",
    "\n",
    "\n",
    "\n",
    "for e in range(5):\n",
    "    \n",
    "    num1 = input(f'{e+1}번째 수 입력 : ')\n",
    "    list6.append(num1)\n",
    "print(f'리스트 : {list6}')"
   ]
  },
  {
   "cell_type": "code",
   "execution_count": 131,
   "metadata": {},
   "outputs": [
    {
     "name": "stdout",
     "output_type": "stream",
     "text": [
      "결과 : [2, 3, 4, 5]\n"
     ]
    }
   ],
   "source": [
    "# 리스트 문제2\n",
    "# 아래 제시된 리스트에서 사용자가 입력한 값을 찾아 삭제하는 코드 작성\n",
    "test_list2 = [1,2,3,4,5]\n",
    "\n",
    "searchData = (int(input('수 입력 : ')))\n",
    "if (searchData in test_list2) : \n",
    "    test_list2.remove(searchData)\n",
    "    print(f'결과 : {test_list2}')\n",
    "else : \n",
    "    print('오류')\n",
    "    \n"
   ]
  },
  {
   "cell_type": "code",
   "execution_count": 19,
   "metadata": {},
   "outputs": [
    {
     "name": "stdout",
     "output_type": "stream",
     "text": [
      "2 4 6 8 10 \n",
      "30\n",
      "10\n",
      "6.0\n"
     ]
    }
   ],
   "source": [
    "#리스트 문제3\n",
    "#1~10까지의 수 중 짝수만 리스트에 저장하고 리스트에 저장된 데이트의 합 출력\n",
    "test_list3 = []\n",
    "for i in range(1,11) : \n",
    "    if i % 2 == 0 :\n",
    "        test_list3.append(i)\n",
    "        print(i, end=' ')\n",
    "print()\n",
    "print(sum(test_list3))\n",
    "print(max(test_list3))\n",
    "print(sum(test_list3)/len(test_list3))\n"
   ]
  },
  {
   "cell_type": "code",
   "execution_count": null,
   "metadata": {},
   "outputs": [],
   "source": []
  },
  {
   "cell_type": "code",
   "execution_count": 7,
   "metadata": {},
   "outputs": [
    {
     "name": "stdout",
     "output_type": "stream",
     "text": [
      "{'이름': '홍길동', '나이': 20, '국어점수': 60, '영어점수': 50}\n"
     ]
    }
   ],
   "source": [
    "# 빈 dictionary 객체를 생성한 후\n",
    "# 이름, 나이, 국어점수, 영어점수를 key로 추가하고\n",
    "# 각각의 키에 대응하는 value는 키보드로 입력받아\n",
    "# dictionary 객체에 저장하시오,그리고 출력\n",
    "\n",
    "test = {}\n",
    "test['이름']=input('이름 입력 : ')\n",
    "test['나이']=int(input('나이 입력 : '))\n",
    "test['국어점수']=int(input('국어점수 입력 : '))\n",
    "test['영어점수']=int(input('영어점수 입력 : '))\n",
    "print(test)"
   ]
  },
  {
   "cell_type": "code",
   "execution_count": 15,
   "metadata": {},
   "outputs": [
    {
     "name": "stdout",
     "output_type": "stream",
     "text": [
      "{'이름': '홍길동', '나이': 20, '국어점수': 60, '영어점수': 50, '총점': 110}\n"
     ]
    }
   ],
   "source": [
    "# 위에서 만든 딕셔너리 데이터에 '총점' 키를 추가하고\n",
    "# 해당 키의 값으로 국어점수와 영어점수의 합을 저장\n",
    "test['총점'] = test['국어점수']+test['영어점수']\n",
    "print(test)\n",
    "\n"
   ]
  },
  {
   "cell_type": "code",
   "execution_count": 28,
   "metadata": {},
   "outputs": [
    {
     "name": "stdout",
     "output_type": "stream",
     "text": [
      "[1, 2, 3, 4, 5]\n",
      "['김자바', '이자바', '박자바', '최자바', '정자바']\n",
      "[85, 65, 70, 80, 95]\n"
     ]
    },
    {
     "data": {
      "text/plain": [
       "95"
      ]
     },
     "execution_count": 28,
     "metadata": {},
     "output_type": "execute_result"
    }
   ],
   "source": [
    "class_room_data = {\n",
    "    'stu_no' : [1,2,3,4,5],\n",
    "    'stu_name' : ['김자바','이자바', '박자바', '최자바', '정자바'],\n",
    "    'stu_score' : [85,65,70,80,95]\n",
    "}\n",
    "\n",
    "for e in class_room_data : \n",
    "    print(class_room_data[e])\n",
    "\n",
    "max(class_room_data['stu_score'])"
   ]
  },
  {
   "cell_type": "code",
   "execution_count": 58,
   "metadata": {},
   "outputs": [
    {
     "name": "stdout",
     "output_type": "stream",
     "text": [
      "{'stu_no': [1, 2, 3, 4, 5], 'stu_name': ['김자바', '이자바', '박자바', '최자바', '정자바'], 'stu_score': [85, 65, 70, 80, 95], 'stu_grade': ['B', 'C', 'C', 'B', 'A']}\n"
     ]
    }
   ],
   "source": [
    "# 위의 딕셔너리 데이터에 'stu_grade'라는 키를 추가하고\n",
    "# 해당 키에 대한 값으로 아래의 글을 참고한다.\n",
    "# 90 <= 점수 : A\n",
    "# 80 <= 점수 : B\n",
    "# 점수 < 80 : C\n",
    "class_room_data['stu_grade'] = []\n",
    "\n",
    "for e in class_room_data['stu_score'] : \n",
    "    if 90 <= e :\n",
    "        class_room_data['stu_grade'].append('A')\n",
    "    elif 80 > e :\n",
    "        class_room_data['stu_grade'].append('C')\n",
    "    elif 80 <= e :    \n",
    "        class_room_data['stu_grade'].append('B')    \n",
    "    \n",
    "        \n",
    "    \n",
    "        \n",
    "    \n",
    "print(class_room_data)"
   ]
  }
 ],
 "metadata": {
  "kernelspec": {
   "display_name": "Python 3",
   "language": "python",
   "name": "python3"
  },
  "language_info": {
   "codemirror_mode": {
    "name": "ipython",
    "version": 3
   },
   "file_extension": ".py",
   "mimetype": "text/x-python",
   "name": "python",
   "nbconvert_exporter": "python",
   "pygments_lexer": "ipython3",
   "version": "3.12.2"
  }
 },
 "nbformat": 4,
 "nbformat_minor": 2
}
