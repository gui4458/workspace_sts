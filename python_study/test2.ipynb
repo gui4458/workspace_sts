{
 "cells": [
  {
   "cell_type": "markdown",
   "metadata": {},
   "source": [
    "### 자주 사용하는 쥬피터노트북 단축키\n",
    "+ Y - 해당 셀을 코드 작성 셀로 변경\n",
    "+ M - 해당 셀을 마크다운 셀로 변경\n",
    "+ Ctrl + Enter - 선택한 셀 실행\n",
    "+ DD - 선택한 셀을 삭제\n",
    "+ A - 선택한 셀 위에 새로운 셀 추가\n",
    "+ B - 선택한 셀 아래에 새로운 셀 추가"
   ]
  },
  {
   "cell_type": "markdown",
   "metadata": {},
   "source": [
    "### 파이썬의 출력문\n",
    "\n",
    "+ 파이썬은 명령어 종료 후 세미콜론(;)을 붙이지 않음"
   ]
  },
  {
   "cell_type": "code",
   "execution_count": 7,
   "metadata": {},
   "outputs": [
    {
     "name": "stdout",
     "output_type": "stream",
     "text": [
      "10\n",
      "python\n",
      "python\n",
      "30\n"
     ]
    },
    {
     "ename": "TypeError",
     "evalue": "unsupported operand type(s) for +: 'int' and 'str'",
     "output_type": "error",
     "traceback": [
      "\u001b[1;31m---------------------------------------------------------------------------\u001b[0m",
      "\u001b[1;31mTypeError\u001b[0m                                 Traceback (most recent call last)",
      "Cell \u001b[1;32mIn[7], line 12\u001b[0m\n\u001b[0;32m      9\u001b[0m \u001b[38;5;28mprint\u001b[39m(\u001b[38;5;241m10\u001b[39m \u001b[38;5;241m+\u001b[39m \u001b[38;5;241m20\u001b[39m)\n\u001b[0;32m     11\u001b[0m \u001b[38;5;66;03m# 자바와 다르게 숫자와 문자끼리의 합은 오류가 발생한다.\u001b[39;00m\n\u001b[1;32m---> 12\u001b[0m \u001b[38;5;28mprint\u001b[39m(\u001b[38;5;241;43m10\u001b[39;49m\u001b[43m \u001b[49m\u001b[38;5;241;43m+\u001b[39;49m\u001b[43m \u001b[49m\u001b[38;5;124;43m'\u001b[39;49m\u001b[38;5;124;43mpython\u001b[39;49m\u001b[38;5;124;43m'\u001b[39;49m)\n",
      "\u001b[1;31mTypeError\u001b[0m: unsupported operand type(s) for +: 'int' and 'str'"
     ]
    }
   ],
   "source": [
    "# 숫자 출력\n",
    "print(10)\n",
    "\n",
    "# 문자 출력 : 출력하고자 하는 문자를 홀따옴표 혹은 쌍따옴표로 감싼다.\n",
    "print('python')\n",
    "print(\"python\")\n",
    "\n",
    "# 출력문 안의 내용이 연산가능하다면 연산 결과를 출력\n",
    "print(10 + 20)\n",
    "\n",
    "# 자바와 다르게 숫자와 문자끼리의 합은 오류가 발생한다.\n",
    "# print(10 + 'python')"
   ]
  },
  {
   "cell_type": "markdown",
   "metadata": {},
   "source": [
    "### 파이썬의 연산자"
   ]
  },
  {
   "cell_type": "code",
   "execution_count": 13,
   "metadata": {},
   "outputs": [
    {
     "name": "stdout",
     "output_type": "stream",
     "text": [
      "3.3333333333333335\n",
      "3\n",
      "1\n",
      "8\n"
     ]
    }
   ],
   "source": [
    "# 나눗셈 연산자\n",
    "print(10 / 3)\n",
    "\n",
    "# 몫만 계산하는 연산자\n",
    "print(10 // 3)\n",
    "# 나머지를 구하는 연산자\n",
    "print(10 % 3)\n",
    "\n",
    "# 거듭제곱 연산자\n",
    "print(2 ** 3)\n",
    "\n",
    "# 기타연산자의 경우 자바와 모두 동일함"
   ]
  },
  {
   "cell_type": "markdown",
   "metadata": {},
   "source": [
    "### 파이썬의 자료형(기본)\n",
    "+ 파이썬은 눈에 보이지 않는 자료형이 존재"
   ]
  },
  {
   "cell_type": "code",
   "execution_count": 20,
   "metadata": {},
   "outputs": [
    {
     "name": "stdout",
     "output_type": "stream",
     "text": [
      "<class 'int'>\n",
      "<class 'float'>\n",
      "<class 'str'>\n",
      "<class 'int'>\n",
      "<class 'float'>\n",
      "<class 'str'>\n",
      "<class 'bool'>\n"
     ]
    }
   ],
   "source": [
    "a = 10\n",
    "print(type(a))\n",
    "b = 10.5\n",
    "print(type(b))\n",
    "c = 'python'\n",
    "print(type(c))\n",
    "\n",
    "# 파이썬에서의 기본 자료형 변환\n",
    "aa = int(\"10\")\n",
    "print(type(aa))\n",
    "bb = float(\"10.5\")\n",
    "print(type(bb))\n",
    "cc = str(100)\n",
    "print(type(cc))\n",
    "\n",
    "# 참 또는 거짓\n",
    "bool1 = True\n",
    "bool2 = False\n",
    "print(type(bool1))"
   ]
  },
  {
   "cell_type": "markdown",
   "metadata": {},
   "source": [
    "### 많이 사용하는 파이썬의 자료형\n",
    "+ 리스트(배열)\n",
    "+ 딕셔너리(dictionary)\n",
    "+ set\n",
    "+ 튜플(tuple)"
   ]
  },
  {
   "cell_type": "code",
   "execution_count": 24,
   "metadata": {},
   "outputs": [
    {
     "name": "stdout",
     "output_type": "stream",
     "text": [
      "[1, 2, 3, 4, 5]\n",
      "<class 'list'>\n",
      "1.1\n"
     ]
    }
   ],
   "source": [
    "# 리스트 생성\n",
    "list_1 = [1,2,3,4,5]\n",
    "print(list_1)\n",
    "print(type(list_1))\n",
    "\n",
    "list_2 = [1, 1.1, 'python']\n",
    "print(list_2[1])"
   ]
  },
  {
   "cell_type": "code",
   "execution_count": 31,
   "metadata": {},
   "outputs": [
    {
     "name": "stdout",
     "output_type": "stream",
     "text": [
      "{'name': 'hong', 'age': 20, 'addr': '울산시'}\n",
      "20\n",
      "20\n"
     ]
    }
   ],
   "source": [
    "# 딕셔너리 dictionary\n",
    "\n",
    "dic_1 = {\n",
    "    'name' : 'hong'\n",
    "    ,'age' : 20\n",
    "    ,'addr' : '울산시'\n",
    "}\n",
    "print(dic_1)\n",
    "print(dic_1.get('age'))\n",
    "print(dic_1['age'])"
   ]
  },
  {
   "cell_type": "code",
   "execution_count": 47,
   "metadata": {},
   "outputs": [
    {
     "name": "stdout",
     "output_type": "stream",
     "text": [
      "캐드반\n"
     ]
    }
   ],
   "source": [
    "school = {\n",
    "    'schoolName' : '그린학교'\n",
    "    ,'classInfo' : [\n",
    "        {\n",
    "            'className' : '자바반'\n",
    "            ,'stuCnt' : 30\n",
    "        }, \n",
    "        {\n",
    "            'className' : '캐드반'\n",
    "            ,'stuCnt' : 30\n",
    "        }\n",
    "    ]\n",
    "}\n",
    "\n",
    "print(school['classInfo'][1]['className'])\n",
    "\n",
    "\n",
    "\n"
   ]
  }
 ],
 "metadata": {
  "kernelspec": {
   "display_name": "Python 3",
   "language": "python",
   "name": "python3"
  },
  "language_info": {
   "codemirror_mode": {
    "name": "ipython",
    "version": 3
   },
   "file_extension": ".py",
   "mimetype": "text/x-python",
   "name": "python",
   "nbconvert_exporter": "python",
   "pygments_lexer": "ipython3",
   "version": "3.12.2"
  }
 },
 "nbformat": 4,
 "nbformat_minor": 2
}
