{
 "cells": [
  {
   "cell_type": "markdown",
   "metadata": {},
   "source": [
    "### 함수"
   ]
  },
  {
   "cell_type": "code",
   "execution_count": 6,
   "metadata": {},
   "outputs": [],
   "source": [
    "# 함수의 기본 형태\n",
    "def test1():\n",
    "    print(1)"
   ]
  },
  {
   "cell_type": "code",
   "execution_count": 7,
   "metadata": {},
   "outputs": [
    {
     "name": "stdout",
     "output_type": "stream",
     "text": [
      "1\n"
     ]
    }
   ],
   "source": [
    "test1()"
   ]
  },
  {
   "cell_type": "code",
   "execution_count": 12,
   "metadata": {},
   "outputs": [
    {
     "name": "stdout",
     "output_type": "stream",
     "text": [
      "10\n"
     ]
    }
   ],
   "source": [
    "# 리턴이 있는 함수\n",
    "def getNum():\n",
    "    return 10\n",
    "val = getNum()\n",
    "print(val)"
   ]
  },
  {
   "cell_type": "code",
   "execution_count": 13,
   "metadata": {},
   "outputs": [
    {
     "name": "stdout",
     "output_type": "stream",
     "text": [
      "8\n"
     ]
    }
   ],
   "source": [
    "# 매개변수로 전달되는 두 수의 합을 리턴하는 함수\n",
    "# 호출\n",
    "def getSum(a,b):\n",
    "    return a+b\n",
    "\n",
    "sum1 = getSum(3,5)\n",
    "print(sum1)"
   ]
  },
  {
   "cell_type": "code",
   "execution_count": 17,
   "metadata": {},
   "outputs": [
    {
     "name": "stdout",
     "output_type": "stream",
     "text": [
      "<class 'tuple'>\n"
     ]
    }
   ],
   "source": [
    "# 파이썬은 필요하다면 여러 데이터를 return 할 수 있다.\n",
    "def test2():\n",
    "    return 10, 20\n",
    "\n",
    "# 결과가 Tuple(튜플) 자료형으로 나옴.\n",
    "# tuple : list와 동일하나, 값을 변경하지 못하는 자료형\n",
    "val1 = test2()\n",
    "print(type(val1))"
   ]
  },
  {
   "cell_type": "code",
   "execution_count": 18,
   "metadata": {},
   "outputs": [],
   "source": [
    "# 파이썬은 매개변수의 값을 자바와 다르게 지정할 수 있다\n",
    "def intro(name,age):\n",
    "    print(f'이름은 {name}이고, 나이는 {age}입니다.')"
   ]
  },
  {
   "cell_type": "code",
   "execution_count": 20,
   "metadata": {},
   "outputs": [
    {
     "name": "stdout",
     "output_type": "stream",
     "text": [
      "이름은 홍길동이고, 나이는 20입니다.\n",
      "이름은 홍길동이고, 나이는 20입니다.\n",
      "이름은 홍이고, 나이는 30입니다.\n"
     ]
    }
   ],
   "source": [
    "intro('홍길동',20)\n",
    "# 매개변수의 이름으로 값을 전달할 수 있음\n",
    "intro(name='홍길동',age=20)\n",
    "intro(age=30,name='홍')"
   ]
  },
  {
   "cell_type": "code",
   "execution_count": 21,
   "metadata": {},
   "outputs": [],
   "source": [
    "# 함수 선언 시 매개변수의 기본값(default)을 지정할 수 있음\n",
    "def mySum(a, b=10, c=20):\n",
    "    return a + b + c\n",
    "# def mySum2(a = 1, b, c=20):\n",
    "#     return a + b + c"
   ]
  },
  {
   "cell_type": "code",
   "execution_count": 28,
   "metadata": {},
   "outputs": [
    {
     "name": "stdout",
     "output_type": "stream",
     "text": [
      "6\n",
      "23\n",
      "31\n"
     ]
    }
   ],
   "source": [
    "print(mySum(1,2,3))\n",
    "print(mySum(1,2))\n",
    "print(mySum(1))"
   ]
  },
  {
   "cell_type": "code",
   "execution_count": 37,
   "metadata": {},
   "outputs": [
    {
     "name": "stdout",
     "output_type": "stream",
     "text": [
      "두 리스트의 합 : 15\n"
     ]
    }
   ],
   "source": [
    "# 1. 매개변수로 두 개의 리스트를 받아, 두 리스트에 저장된\n",
    "#  모든 데이터의 합을 리턴하는 함수 선언\n",
    "\n",
    "def sum2(a,b):\n",
    "    result1 = sum(a)+sum(b)\n",
    "    return f'두 리스트의 합 : {result1}'\n",
    "\n",
    "print(sum2([1,2],[3,4,5]))"
   ]
  },
  {
   "cell_type": "code",
   "execution_count": 45,
   "metadata": {},
   "outputs": [
    {
     "name": "stdout",
     "output_type": "stream",
     "text": [
      "두 리스트의 중복값 : [3, 3, 4]\n",
      "두 리스트의 중복값 : [3, 4]\n"
     ]
    }
   ],
   "source": [
    "# 2. 매개변수로 두 개의 리스트를 받아, 두 리스트에서 중복된\n",
    "# 데이터만을 갖는 새로운 리스트를 리턴하는 함수\n",
    "\n",
    "def result2(a,b):\n",
    "    newArr = []\n",
    "    for i in a :\n",
    "        for j in b :\n",
    "            if i == j :\n",
    "                newArr.append(i)\n",
    "    return f'두 리스트의 중복값 : {newArr}'\n",
    "print(result2([1,2,3,4],[5,6,3,3,4,7,8]))\n",
    "\n",
    "def result3(a,b):\n",
    "    newArr = []\n",
    "    for i in a :\n",
    "        if i in b :\n",
    "            newArr.append(i)\n",
    "    return f'두 리스트의 중복값 : {newArr}'\n",
    "\n",
    "print(result3([1,2,3,4],[5,6,3,4,3,7,8]))"
   ]
  },
  {
   "cell_type": "code",
   "execution_count": 64,
   "metadata": {},
   "outputs": [
    {
     "data": {
      "text/plain": [
       "{'name': 'hong', 'age': 30}"
      ]
     },
     "execution_count": 64,
     "metadata": {},
     "output_type": "execute_result"
    }
   ],
   "source": [
    "# changeValueOfDic(딕셔너리, 변경할key,변경할값)\n",
    "# 찾는 키가 없다면 '변경할 키를 찾지 못했습니다'가 출력\n",
    "dic1 = {\n",
    "    'name' : 'hong',\n",
    "    'age' : 20\n",
    "}\n",
    "\n",
    "\n",
    "def changeValueOfDic(dic,key,value):\n",
    "    if key in dic :\n",
    "        dic[key] = value\n",
    "    else :\n",
    "        print('변경할 키를 찾지 못했습니다.')\n",
    "    \n",
    "changeValueOfDic(dic1,'age',30)\n",
    "dic1"
   ]
  },
  {
   "cell_type": "code",
   "execution_count": null,
   "metadata": {},
   "outputs": [],
   "source": []
  },
  {
   "cell_type": "code",
   "execution_count": null,
   "metadata": {},
   "outputs": [],
   "source": []
  },
  {
   "cell_type": "code",
   "execution_count": null,
   "metadata": {},
   "outputs": [],
   "source": []
  },
  {
   "cell_type": "code",
   "execution_count": null,
   "metadata": {},
   "outputs": [],
   "source": []
  }
 ],
 "metadata": {
  "kernelspec": {
   "display_name": "Python 3",
   "language": "python",
   "name": "python3"
  },
  "language_info": {
   "codemirror_mode": {
    "name": "ipython",
    "version": 3
   },
   "file_extension": ".py",
   "mimetype": "text/x-python",
   "name": "python",
   "nbconvert_exporter": "python",
   "pygments_lexer": "ipython3",
   "version": "3.12.2"
  }
 },
 "nbformat": 4,
 "nbformat_minor": 2
}
