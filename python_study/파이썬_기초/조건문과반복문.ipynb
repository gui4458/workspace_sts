{
 "cells": [
  {
   "cell_type": "markdown",
   "metadata": {},
   "source": [
    "### 조건문"
   ]
  },
  {
   "cell_type": "code",
   "execution_count": 3,
   "metadata": {},
   "outputs": [
    {
     "name": "stdout",
     "output_type": "stream",
     "text": [
      "5\n",
      "10\n",
      "15\n"
     ]
    }
   ],
   "source": [
    "# if문 기본\n",
    "# 들여쓰기를 기준으로 조건문의 영역을 표현\n",
    "if 10 > 5 :\n",
    "    print(5)\n",
    "    print(10)\n",
    "print(15)"
   ]
  },
  {
   "cell_type": "code",
   "execution_count": 4,
   "metadata": {},
   "outputs": [
    {
     "name": "stdout",
     "output_type": "stream",
     "text": [
      "1\n"
     ]
    }
   ],
   "source": [
    "num1 = 10\n",
    "if num1 > 5 :\n",
    "    print(1)\n",
    "else :\n",
    "    print(2)\n"
   ]
  },
  {
   "cell_type": "code",
   "execution_count": 8,
   "metadata": {},
   "outputs": [
    {
     "name": "stdout",
     "output_type": "stream",
     "text": [
      "양수\n"
     ]
    }
   ],
   "source": [
    "num2 = 5\n",
    "if num2 > 0 :\n",
    "    print('양수')\n",
    "elif num2 < 0 :\n",
    "    print('음수')\n",
    "else : \n",
    "    print('0')"
   ]
  },
  {
   "cell_type": "code",
   "execution_count": 9,
   "metadata": {},
   "outputs": [
    {
     "name": "stdout",
     "output_type": "stream",
     "text": [
      "1\n"
     ]
    }
   ],
   "source": [
    "# 그리고(and), 이거나(or)\n",
    "num3 = 10\n",
    "\n",
    "#num3의 값이 2의 배수이면서 5보다 크다\n",
    "if num3 % 2 == 0 and num3 > 5 :\n",
    "    print(1)"
   ]
  },
  {
   "cell_type": "code",
   "execution_count": null,
   "metadata": {},
   "outputs": [],
   "source": [
    "#키보드로 입력받기\n",
    "#숫자를 입력받아도 문자로 취급\n",
    "name = input('이름을 입력하세요 : ')\n",
    "print(name)"
   ]
  },
  {
   "cell_type": "code",
   "execution_count": 16,
   "metadata": {},
   "outputs": [],
   "source": [
    "# 문제1. 키보드로 두 수를 입력받아 두 수의 합이 5의 배수라면 '참'을 출력\n",
    "num1 = int(input('첫번째 수 :'))\n",
    "num2 = int(input('두번째 수 :'))\n",
    "if (num1+num2) % 5 ==0 :\n",
    "    print(\"참\")"
   ]
  },
  {
   "cell_type": "code",
   "execution_count": 19,
   "metadata": {},
   "outputs": [],
   "source": [
    "# 파이썬에만 존재하는 특별한 기능\n",
    "\n",
    "#ex> [1,2,3,4,5,6,7,8]에서 5가 있는지 판단\n",
    "list_1 = [1,2,3,4,5,6,7,8]\n",
    "if 5 in list_1 : \n",
    "    print(5)\n",
    "\n",
    "#ex> [1,2,3,4,5,6,7,8]에서 5가 없는지 판단\n",
    "if 5 not in list_1 : \n",
    "    print(1)"
   ]
  },
  {
   "cell_type": "markdown",
   "metadata": {},
   "source": [
    "### 반복문"
   ]
  },
  {
   "cell_type": "code",
   "execution_count": 26,
   "metadata": {},
   "outputs": [
    {
     "name": "stdout",
     "output_type": "stream",
     "text": [
      "1A2A3A4A"
     ]
    }
   ],
   "source": [
    "#range(시작 숫자,)\n",
    "for i in range(1, 5) :\n",
    "    print(i, end='A')"
   ]
  },
  {
   "cell_type": "code",
   "execution_count": 37,
   "metadata": {},
   "outputs": [
    {
     "name": "stdout",
     "output_type": "stream",
     "text": [
      "0 1 2 3 4 5 6 7 8 9 1\n",
      "2\n",
      "3\n",
      "4\n",
      "5\n"
     ]
    }
   ],
   "source": [
    "#range()함수에 숫자가 하나만 들어가면 시작 숫자가 생략된 것.\n",
    "for i in range(10) :\n",
    "    print(i, end=' ')\n",
    "\n",
    "for i in [1,2,3,4,5] : \n",
    "    print(i)"
   ]
  },
  {
   "cell_type": "code",
   "execution_count": 29,
   "metadata": {},
   "outputs": [
    {
     "name": "stdout",
     "output_type": "stream",
     "text": [
      "i = 0, e = 1\n",
      "i = 1, e = 3\n",
      "i = 2, e = java\n",
      "i = 3, e = 홍\n",
      "i = 4, e = 10.5\n"
     ]
    }
   ],
   "source": [
    "list_2 = [1, 3, 'java', '홍', 10.5]\n",
    "# i :반복 횟수(0부터 시작)\n",
    "# e : 하나씩 뺀 데이터\n",
    "for i, e in enumerate(list_2):\n",
    "    print(f'i = {i}, e = {e}')"
   ]
  },
  {
   "cell_type": "code",
   "execution_count": 52,
   "metadata": {},
   "outputs": [
    {
     "name": "stdout",
     "output_type": "stream",
     "text": [
      "1 2 3 4 5 6 7 8 9 10 결과 : 55\n"
     ]
    }
   ],
   "source": [
    "# 1 ~ 10까지의 합 출력\n",
    "sum = 0\n",
    "for i in range(1, 11) :\n",
    "    sum = sum + i\n",
    "    print(i, end=' ')\n",
    "print(f'결과 : {sum}')    "
   ]
  },
  {
   "cell_type": "code",
   "execution_count": 51,
   "metadata": {},
   "outputs": [
    {
     "name": "stdout",
     "output_type": "stream",
     "text": [
      "3 6 9 12 15 18 21 24 27 30 33 36 39 42 45 48 51 54 57 60 63 66 69 72 75 78 81 84 87 90 93 96 99 \n",
      "3의 배수 합 : 1683\n"
     ]
    }
   ],
   "source": [
    "#1 ~ 100 사이의 수 중 3의 배수 및 3의 배수의 합 출력\n",
    "sum1 = 0\n",
    "for i in range(1, 101) :\n",
    "    if i % 3 == 0 :\n",
    "        print(i, end=' ')\n",
    "        sum1 = i + sum1\n",
    "\n",
    "print()\n",
    "print(f'3의 배수 합 : {sum1}')"
   ]
  },
  {
   "cell_type": "code",
   "execution_count": 54,
   "metadata": {},
   "outputs": [
    {
     "name": "stdout",
     "output_type": "stream",
     "text": [
      "2\n",
      "3\n",
      "4\n",
      "5\n",
      "6\n",
      "7\n",
      "8\n",
      "9\n",
      "10\n",
      "54\n"
     ]
    }
   ],
   "source": [
    "# 키보드로 입력받은 두 수 사이의 모든 숫자의 합을 출력\n",
    "num4 = input('첫번째 수 입력 : ')\n",
    "num5 = input('두번째 수 입력 : ')\n",
    "sum2 = 0\n",
    "for i in range(int(num4)+1, int(num5)) :\n",
    "    print(i)\n",
    "    sum2 += i\n",
    "print(sum2)"
   ]
  }
 ],
 "metadata": {
  "kernelspec": {
   "display_name": "Python 3",
   "language": "python",
   "name": "python3"
  },
  "language_info": {
   "codemirror_mode": {
    "name": "ipython",
    "version": 3
   },
   "file_extension": ".py",
   "mimetype": "text/x-python",
   "name": "python",
   "nbconvert_exporter": "python",
   "pygments_lexer": "ipython3",
   "version": "3.12.2"
  }
 },
 "nbformat": 4,
 "nbformat_minor": 2
}
